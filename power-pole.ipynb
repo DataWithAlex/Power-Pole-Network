{
 "cells": [
  {
   "cell_type": "code",
   "execution_count": null,
   "metadata": {},
   "outputs": [],
   "source": [
    "import geopandas as gpd\n",
    "import networkx as nx\n",
    "import folium\n",
    "\n",
    "# Load GeoJSON data\n",
    "gdf = gpd.read_file('export.geojson')\n",
    "\n",
    "# Create a NetworkX graph\n",
    "G = nx.Graph()\n",
    "\n",
    "# Iterate through the GeoDataFrame\n",
    "for index, row in gdf.iterrows():\n",
    "    if 'power' in row and row['power'] == 'tower':\n",
    "        point = row['geometry']\n",
    "        coordinates = (point.y, point.x)  # Swap latitude and longitude\n",
    "        node_id = row['id']\n",
    "        G.add_node(node_id, pos=coordinates)  # Store coordinates as node attribute\n",
    "\n",
    "# Create a folium map centered at the mean coordinates\n",
    "mean_coords = gdf.geometry.unary_union.centroid\n",
    "m = folium.Map(location=[mean_coords.y, mean_coords.x], zoom_start=10)\n",
    "\n",
    "# Add markers for power tower nodes\n",
    "for node_id, attrs in G.nodes(data=True):\n",
    "    coords = attrs['pos']\n",
    "    folium.Marker(location=coords, icon=folium.Icon(icon='bolt')).add_to(m)\n",
    "\n",
    "# Save the map as an HTML file\n",
    "m.save('power_tower_network.html')\n",
    "\n",
    "# Display the map in the notebook\n",
    "m"
   ]
  },
  {
   "cell_type": "code",
   "execution_count": 5,
   "metadata": {},
   "outputs": [
    {
     "ename": "KeyError",
     "evalue": "'pos'",
     "output_type": "error",
     "traceback": [
      "\u001b[0;31m---------------------------------------------------------------------------\u001b[0m",
      "\u001b[0;31mKeyError\u001b[0m                                  Traceback (most recent call last)",
      "Cell \u001b[0;32mIn[5], line 48\u001b[0m\n\u001b[1;32m     46\u001b[0m \u001b[38;5;28;01mfor\u001b[39;00m edge \u001b[38;5;129;01min\u001b[39;00m G\u001b[38;5;241m.\u001b[39medges():\n\u001b[1;32m     47\u001b[0m     start, end \u001b[38;5;241m=\u001b[39m edge\n\u001b[0;32m---> 48\u001b[0m     locs \u001b[38;5;241m=\u001b[39m [\u001b[43mG\u001b[49m\u001b[38;5;241;43m.\u001b[39;49m\u001b[43mnodes\u001b[49m\u001b[43m[\u001b[49m\u001b[43mstart\u001b[49m\u001b[43m]\u001b[49m\u001b[43m[\u001b[49m\u001b[38;5;124;43m'\u001b[39;49m\u001b[38;5;124;43mpos\u001b[39;49m\u001b[38;5;124;43m'\u001b[39;49m\u001b[43m]\u001b[49m, G\u001b[38;5;241m.\u001b[39mnodes[end][\u001b[38;5;124m'\u001b[39m\u001b[38;5;124mpos\u001b[39m\u001b[38;5;124m'\u001b[39m]]\n\u001b[1;32m     49\u001b[0m     folium\u001b[38;5;241m.\u001b[39mPolyLine(locs, color\u001b[38;5;241m=\u001b[39m\u001b[38;5;124m\"\u001b[39m\u001b[38;5;124mblue\u001b[39m\u001b[38;5;124m\"\u001b[39m, weight\u001b[38;5;241m=\u001b[39m\u001b[38;5;241m2.5\u001b[39m, opacity\u001b[38;5;241m=\u001b[39m\u001b[38;5;241m1\u001b[39m)\u001b[38;5;241m.\u001b[39madd_to(m)\n\u001b[1;32m     51\u001b[0m \u001b[38;5;28;01mfor\u001b[39;00m node \u001b[38;5;129;01min\u001b[39;00m new_nodes:\n",
      "\u001b[0;31mKeyError\u001b[0m: 'pos'"
     ]
    }
   ],
   "source": [
    "import geopandas as gpd\n",
    "import networkx as nx\n",
    "import folium\n",
    "\n",
    "from scipy.spatial import distance_matrix\n",
    "from scipy.sparse.csgraph import minimum_spanning_tree\n",
    "\n",
    "from sklearn.cluster import DBSCAN\n",
    "\n",
    "# Load GeoJSON data\n",
    "gdf = gpd.read_file('export.geojson')\n",
    "\n",
    "# Create a NetworkX graph\n",
    "G = nx.Graph()\n",
    "\n",
    "# Extract tower nodes\n",
    "tower_nodes = [(row['id'], (row['geometry'].y, row['geometry'].x)) for index, row in gdf.iterrows() if 'power' in row and row['power'] == 'tower']\n",
    "\n",
    "# Create a list of node positions for distance calculations\n",
    "positions = [coords for _, coords in tower_nodes]\n",
    "\n",
    "# Calculate the distance matrix\n",
    "dist_matrix = distance_matrix(positions, positions)\n",
    "\n",
    "# Calculate Minimum Spanning Tree\n",
    "mst = minimum_spanning_tree(dist_matrix).tocoo()\n",
    "\n",
    "# Add edges to the graph\n",
    "for i, j, w in zip(mst.row, mst.col, mst.data):\n",
    "    G.add_edge(tower_nodes[i][0], tower_nodes[j][0], weight=w)\n",
    "\n",
    "# Cluster with DBSCAN and add new nodes\n",
    "db = DBSCAN(eps=0.5, min_samples=2).fit(positions)\n",
    "labels = db.labels_\n",
    "\n",
    "# Generate new nodes within dense regions (clusters)\n",
    "new_nodes = []\n",
    "\n",
    "for label in set(labels):\n",
    "    if label != -1:\n",
    "        members = [positions[idx] for idx, _ in enumerate(tower_nodes) if labels[idx] == label]\n",
    "        centroid = (sum(x[0] for x in members) / len(members), sum(x[1] for x in members) / len(members))\n",
    "        new_nodes.append(centroid)\n",
    "\n",
    "# Update the folium map\n",
    "for edge in G.edges():\n",
    "    start, end = edge\n",
    "    locs = [G.nodes[start]['pos'], G.nodes[end]['pos']]\n",
    "    folium.PolyLine(locs, color=\"blue\", weight=2.5, opacity=1).add_to(m)\n",
    "\n",
    "for node in new_nodes:\n",
    "    folium.Marker(location=node, icon=folium.Icon(icon='star')).add_to(m)\n",
    "\n",
    "# Save the updated map\n",
    "m.save('power_tower_network_with_links.html')\n"
   ]
  }
 ],
 "metadata": {
  "kernelspec": {
   "display_name": "Python 3.9.0 ('venv': venv)",
   "language": "python",
   "name": "python3"
  },
  "language_info": {
   "codemirror_mode": {
    "name": "ipython",
    "version": 3
   },
   "file_extension": ".py",
   "mimetype": "text/x-python",
   "name": "python",
   "nbconvert_exporter": "python",
   "pygments_lexer": "ipython3",
   "version": "3.9.0"
  },
  "orig_nbformat": 4,
  "vscode": {
   "interpreter": {
    "hash": "08bfa10294efa3424480bc07184d148203bd91defc341d497479bde602b2965d"
   }
  }
 },
 "nbformat": 4,
 "nbformat_minor": 2
}
