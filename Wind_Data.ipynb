{
 "cells": [
  {
   "cell_type": "code",
   "execution_count": null,
   "metadata": {},
   "outputs": [],
   "source": []
  },
  {
   "cell_type": "markdown",
   "metadata": {},
   "source": [
    "\n",
    "An aeolian harp is a musical instrument that is played by the wind. Typically, it consists of a wooden box with strings stretched across two bridges, much like a regular harp. When the wind blows across the strings, it induces vibrations, creating musical sounds. The pitch and tone are determined by the tension, length, and thickness of the strings, as well as the velocity and direction of the wind.\n",
    "\n",
    "Integrating the concept of an aeolian harp into architectural design could offer unique aesthetic and experiential qualities to a site. Here are some ideas for incorporating aeolian harps into architectural contexts, combined with principles of network science:\n",
    "\n",
    "1. **Interactive Soundscapes**: Design an array of aeolian harps placed strategically across a site, where each harp is tuned differently. When the wind blows, the harps could create a harmonious soundscape, which would change depending on the wind direction and speed.\n",
    "2. **Networked Sensing**: Integrate sensors into each harp to detect the frequency and amplitude of the sounds. This data could be transmitted to a central hub. By analyzing the data from each harp, one could deduce the direction and speed of the wind across the site in real-time.\n",
    "\n",
    "Integrating power towers as nodes in your aeolian harp-inspired architectural site provides a unique opportunity to connect the natural and man-made environments in a harmonious and interactive manner. Here are some ideas to integrate the power towers with the aeolian harp concept, while also considering network science principles:\n",
    "\n",
    "1. **Cable-Harp Structures**: Stretch strings or cables between the power towers, turning them into large-scale aeolian harps. As the wind blows through these cable-harps, they would produce deep, resonating sounds. The scale would be much larger than traditional aeolian harps, creating a unique auditory experience.\n",
    "\n",
    "Energy Generation: Think about integrating small piezoelectric devices along the cable-harps. These devices generate electricity when subjected to mechanical stress, like the vibrations from the wind. The energy generated could power the interactive lighting or other site features, making a statement about sustainable energy."
   ]
  },
  {
   "cell_type": "code",
   "execution_count": 1,
   "metadata": {},
   "outputs": [
    {
     "name": "stdout",
     "output_type": "stream",
     "text": [
      "Collecting h5pyd\n",
      "  Downloading h5pyd-0.15.1.tar.gz (130 kB)\n",
      "\u001b[K     |████████████████████████████████| 130 kB 1.4 MB/s eta 0:00:01\n",
      "\u001b[?25hRequirement already satisfied: numpy>=1.17.3 in ./venv/lib/python3.9/site-packages (from h5pyd) (1.26.0)\n",
      "Collecting requests_unixsocket\n",
      "  Downloading requests_unixsocket-0.3.0-py2.py3-none-any.whl (11 kB)\n",
      "Requirement already satisfied: pytz in ./venv/lib/python3.9/site-packages (from h5pyd) (2023.3.post1)\n",
      "Collecting pyjwt\n",
      "  Using cached PyJWT-2.8.0-py3-none-any.whl (22 kB)\n",
      "Requirement already satisfied: requests>=1.1 in ./venv/lib/python3.9/site-packages (from requests_unixsocket->h5pyd) (2.31.0)\n",
      "Requirement already satisfied: idna<4,>=2.5 in ./venv/lib/python3.9/site-packages (from requests>=1.1->requests_unixsocket->h5pyd) (3.4)\n",
      "Requirement already satisfied: charset-normalizer<4,>=2 in ./venv/lib/python3.9/site-packages (from requests>=1.1->requests_unixsocket->h5pyd) (3.2.0)\n",
      "Requirement already satisfied: certifi>=2017.4.17 in ./venv/lib/python3.9/site-packages (from requests>=1.1->requests_unixsocket->h5pyd) (2023.7.22)\n",
      "Requirement already satisfied: urllib3<3,>=1.21.1 in ./venv/lib/python3.9/site-packages (from requests>=1.1->requests_unixsocket->h5pyd) (2.0.4)\n",
      "Using legacy 'setup.py install' for h5pyd, since package 'wheel' is not installed.\n",
      "Installing collected packages: requests-unixsocket, pyjwt, h5pyd\n",
      "    Running setup.py install for h5pyd ... \u001b[?25ldone\n",
      "\u001b[?25hSuccessfully installed h5pyd-0.15.1 pyjwt-2.8.0 requests-unixsocket-0.3.0\n",
      "\u001b[33mWARNING: You are using pip version 20.2.3; however, version 23.2.1 is available.\n",
      "You should consider upgrading via the '/Users/alexsciuto/Library/Mobile Documents/com~apple~CloudDocs/DataWithAlex/Power-Pole-Network/venv/bin/python3 -m pip install --upgrade pip' command.\u001b[0m\n"
     ]
    }
   ],
   "source": [
    "!pip install h5pyd"
   ]
  },
  {
   "cell_type": "code",
   "execution_count": 10,
   "metadata": {},
   "outputs": [],
   "source": [
    "hs_endpoint = \"https://developer.nrel.gov/api/hsds\"\n",
    "hs_username = \"Explore@datawithalex.com\"\n",
    "hs_password = \"%Mineguy29\"\n",
    "hs_api_key = \"P1hZt4tRdBBE8d31b2p9I03Rsp64G1Fgah4fJSYi\"\n",
    "\n",
    "import h5pyd\n",
    "import numpy as np\n",
    "import pandas as pd\n"
   ]
  },
  {
   "cell_type": "code",
   "execution_count": 11,
   "metadata": {},
   "outputs": [
    {
     "ename": "ValueError",
     "evalue": "no endpoint set",
     "output_type": "error",
     "traceback": [
      "\u001b[0;31m---------------------------------------------------------------------------\u001b[0m",
      "\u001b[0;31mValueError\u001b[0m                                Traceback (most recent call last)",
      "Cell \u001b[0;32mIn[11], line 3\u001b[0m\n\u001b[1;32m      1\u001b[0m \u001b[38;5;66;03m# Open the wind data \"file\"\u001b[39;00m\n\u001b[1;32m      2\u001b[0m \u001b[38;5;66;03m# server endpoint, username, password is found via a config file\u001b[39;00m\n\u001b[0;32m----> 3\u001b[0m f \u001b[38;5;241m=\u001b[39m \u001b[43mh5pyd\u001b[49m\u001b[38;5;241;43m.\u001b[39;49m\u001b[43mFile\u001b[49m\u001b[43m(\u001b[49m\u001b[38;5;124;43m\"\u001b[39;49m\u001b[38;5;124;43m/nrel/wtk-us.h5\u001b[39;49m\u001b[38;5;124;43m\"\u001b[39;49m\u001b[43m,\u001b[49m\u001b[43m \u001b[49m\u001b[38;5;124;43m'\u001b[39;49m\u001b[38;5;124;43mr\u001b[39;49m\u001b[38;5;124;43m'\u001b[39;49m\u001b[43m,\u001b[49m\u001b[43m \u001b[49m\u001b[43mbucket\u001b[49m\u001b[38;5;241;43m=\u001b[39;49m\u001b[38;5;124;43m\"\u001b[39;49m\u001b[38;5;124;43mnrel-pds-hsds\u001b[39;49m\u001b[38;5;124;43m\"\u001b[39;49m\u001b[43m)\u001b[49m  \n",
      "File \u001b[0;32m~/Library/Mobile Documents/com~apple~CloudDocs/DataWithAlex/Power-Pole-Network/venv/lib/python3.9/site-packages/h5pyd/_hl/files.py:241\u001b[0m, in \u001b[0;36mFile.__init__\u001b[0;34m(self, domain, mode, endpoint, username, password, bucket, api_key, use_session, use_cache, logger, owner, linked_domain, retries, timeout, **kwds)\u001b[0m\n\u001b[1;32m    238\u001b[0m     \u001b[39melif\u001b[39;00m \u001b[39m\"\u001b[39m\u001b[39mhs_bucket\u001b[39m\u001b[39m\"\u001b[39m \u001b[39min\u001b[39;00m cfg:\n\u001b[1;32m    239\u001b[0m         bucket \u001b[39m=\u001b[39m cfg[\u001b[39m\"\u001b[39m\u001b[39mhs_bucket\u001b[39m\u001b[39m\"\u001b[39m]\n\u001b[0;32m--> 241\u001b[0m http_conn \u001b[39m=\u001b[39m HttpConn(\n\u001b[1;32m    242\u001b[0m     domain,\n\u001b[1;32m    243\u001b[0m     endpoint\u001b[39m=\u001b[39;49mendpoint,\n\u001b[1;32m    244\u001b[0m     username\u001b[39m=\u001b[39;49musername,\n\u001b[1;32m    245\u001b[0m     password\u001b[39m=\u001b[39;49mpassword,\n\u001b[1;32m    246\u001b[0m     bucket\u001b[39m=\u001b[39;49mbucket,\n\u001b[1;32m    247\u001b[0m     mode\u001b[39m=\u001b[39;49mmode,\n\u001b[1;32m    248\u001b[0m     api_key\u001b[39m=\u001b[39;49mapi_key,\n\u001b[1;32m    249\u001b[0m     use_session\u001b[39m=\u001b[39;49muse_session,\n\u001b[1;32m    250\u001b[0m     use_cache\u001b[39m=\u001b[39;49muse_cache,\n\u001b[1;32m    251\u001b[0m     logger\u001b[39m=\u001b[39;49mlogger,\n\u001b[1;32m    252\u001b[0m     retries\u001b[39m=\u001b[39;49mretries,\n\u001b[1;32m    253\u001b[0m     timeout\u001b[39m=\u001b[39;49mtimeout,\n\u001b[1;32m    254\u001b[0m )\n\u001b[1;32m    256\u001b[0m root_json \u001b[39m=\u001b[39m \u001b[39mNone\u001b[39;00m\n\u001b[1;32m    258\u001b[0m \u001b[39m# try to do a GET from the domain\u001b[39;00m\n",
      "File \u001b[0;32m~/Library/Mobile Documents/com~apple~CloudDocs/DataWithAlex/Power-Pole-Network/venv/lib/python3.9/site-packages/h5pyd/_hl/httpconn.py:207\u001b[0m, in \u001b[0;36mHttpConn.__init__\u001b[0;34m(self, domain_name, endpoint, username, password, bucket, api_key, mode, use_session, use_cache, logger, retries, timeout, **kwds)\u001b[0m\n\u001b[1;32m    205\u001b[0m \u001b[39mif\u001b[39;00m \u001b[39mnot\u001b[39;00m endpoint:\n\u001b[1;32m    206\u001b[0m     msg \u001b[39m=\u001b[39m \u001b[39m\"\u001b[39m\u001b[39mno endpoint set\u001b[39m\u001b[39m\"\u001b[39m\n\u001b[0;32m--> 207\u001b[0m     \u001b[39mraise\u001b[39;00m \u001b[39mValueError\u001b[39;00m(msg)\n\u001b[1;32m    209\u001b[0m lambda_prefix \u001b[39m=\u001b[39m requests_lambda\u001b[39m.\u001b[39mLAMBDA_REQ_PREFIX\n\u001b[1;32m    211\u001b[0m \u001b[39mif\u001b[39;00m endpoint\u001b[39m.\u001b[39mstartswith(lambda_prefix):\n\u001b[1;32m    212\u001b[0m     \u001b[39m# save lambda function name\u001b[39;00m\n",
      "\u001b[0;31mValueError\u001b[0m: no endpoint set"
     ]
    }
   ],
   "source": [
    "# Open the wind data \"file\"\n",
    "# server endpoint, username, password is found via a config file\n",
    "f = h5pyd.File(\"/nrel/wtk-us.h5\", 'r', bucket=\"nrel-pds-hsds\")  "
   ]
  },
  {
   "cell_type": "code",
   "execution_count": null,
   "metadata": {},
   "outputs": [],
   "source": [
    "f = h5pyd.File(\"/nrel/wtk-us.h5\", 'r', endpoint=\"YOUR_ENDPOINT_HERE\", username=\"YOUR_USERNAME\", password=\"YOUR_PASSWORD\")\n"
   ]
  }
 ],
 "metadata": {
  "kernelspec": {
   "display_name": "Python 3.9.0 ('venv': venv)",
   "language": "python",
   "name": "python3"
  },
  "language_info": {
   "codemirror_mode": {
    "name": "ipython",
    "version": 3
   },
   "file_extension": ".py",
   "mimetype": "text/x-python",
   "name": "python",
   "nbconvert_exporter": "python",
   "pygments_lexer": "ipython3",
   "version": "3.9.0"
  },
  "orig_nbformat": 4,
  "vscode": {
   "interpreter": {
    "hash": "08bfa10294efa3424480bc07184d148203bd91defc341d497479bde602b2965d"
   }
  }
 },
 "nbformat": 4,
 "nbformat_minor": 2
}
