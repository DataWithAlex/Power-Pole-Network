{
 "cells": [
  {
   "cell_type": "code",
   "execution_count": 1,
   "metadata": {},
   "outputs": [
    {
     "ename": "ModuleNotFoundError",
     "evalue": "No module named 'geopandas'",
     "output_type": "error",
     "traceback": [
      "\u001b[0;31m---------------------------------------------------------------------------\u001b[0m",
      "\u001b[0;31mModuleNotFoundError\u001b[0m                       Traceback (most recent call last)",
      "Cell \u001b[0;32mIn[1], line 1\u001b[0m\n\u001b[0;32m----> 1\u001b[0m \u001b[38;5;28;01mimport\u001b[39;00m \u001b[38;5;21;01mgeopandas\u001b[39;00m \u001b[38;5;28;01mas\u001b[39;00m \u001b[38;5;21;01mgpd\u001b[39;00m\n\u001b[1;32m      2\u001b[0m \u001b[38;5;28;01mimport\u001b[39;00m \u001b[38;5;21;01mnetworkx\u001b[39;00m \u001b[38;5;28;01mas\u001b[39;00m \u001b[38;5;21;01mnx\u001b[39;00m\n\u001b[1;32m      3\u001b[0m \u001b[38;5;28;01mimport\u001b[39;00m \u001b[38;5;21;01mfolium\u001b[39;00m\n",
      "\u001b[0;31mModuleNotFoundError\u001b[0m: No module named 'geopandas'"
     ]
    }
   ],
   "source": [
    "import geopandas as gpd\n",
    "import networkx as nx\n",
    "import folium\n",
    "\n",
    "# Load GeoJSON data\n",
    "gdf = gpd.read_file('export.geojson')\n",
    "\n",
    "# Create a NetworkX graph\n",
    "G = nx.Graph()\n",
    "\n",
    "# Iterate through the GeoDataFrame\n",
    "for index, row in gdf.iterrows():\n",
    "    if 'power' in row and row['power'] == 'tower':\n",
    "        point = row['geometry']\n",
    "        coordinates = (point.y, point.x)  # Swap latitude and longitude\n",
    "        node_id = row['id']\n",
    "        G.add_node(node_id, pos=coordinates)  # Store coordinates as node attribute\n",
    "\n",
    "# Create a folium map centered at the mean coordinates\n",
    "mean_coords = gdf.geometry.unary_union.centroid\n",
    "m = folium.Map(location=[mean_coords.y, mean_coords.x], zoom_start=10)\n",
    "\n",
    "# Add markers for power tower nodes\n",
    "for node_id, attrs in G.nodes(data=True):\n",
    "    coords = attrs['pos']\n",
    "    folium.Marker(location=coords, icon=folium.Icon(icon='bolt')).add_to(m)\n",
    "\n",
    "# Save the map as an HTML file\n",
    "m.save('power_tower_network.html')\n",
    "\n",
    "# Display the map in the notebook\n",
    "m"
   ]
  }
 ],
 "metadata": {
  "kernelspec": {
   "display_name": "Python 3.10.9 ('base')",
   "language": "python",
   "name": "python3"
  },
  "language_info": {
   "codemirror_mode": {
    "name": "ipython",
    "version": 3
   },
   "file_extension": ".py",
   "mimetype": "text/x-python",
   "name": "python",
   "nbconvert_exporter": "python",
   "pygments_lexer": "ipython3",
   "version": "3.10.9"
  },
  "orig_nbformat": 4,
  "vscode": {
   "interpreter": {
    "hash": "a50e3272d9c1d8d2b8db078eda76cf8a2e3cc5441b4874bb11d3c0961bf17703"
   }
  }
 },
 "nbformat": 4,
 "nbformat_minor": 2
}
